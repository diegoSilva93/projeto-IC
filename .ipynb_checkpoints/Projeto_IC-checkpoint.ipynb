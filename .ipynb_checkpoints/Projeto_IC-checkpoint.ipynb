{
 "cells": [
  {
   "cell_type": "markdown",
   "metadata": {
    "id": "euA42YE_lVza"
   },
   "source": [
    "# Projeto IC - Auto correlação com python\n"
   ]
  },
  {
   "cell_type": "markdown",
   "metadata": {
    "id": "zneyNInLliZS"
   },
   "source": [
    "**Série Temporal:** Série temporal é uma coleção de observações feitas sequencialmente ao longo do tempo.\n",
    "\n",
    "**Auto correlação:** Autocorrelação é uma importante característica de uma série temporal. Sendo a autocorrelação uma adimenssional da associação linear entre duas variáveis. Sendo obtida através da seguinte equiação:\n",
    "\n",
    "![coeficiente-pearson.png](data:image/png;base64,iVBORw0KGgoAAAANSUhEUgAAAT4AAABqCAMAAAASjs1XAAAABlBMVEX///8AAABVwtN+AAAEJElEQVR4nO1b63rrIAwL7//S53xbu4CRjQFDxir9aNPUkbDKxbn0ugiCIAiCIAiCIAiCIAiCIIg9SAhPN+ogVG7Rvi4A/55pyKGo/VO23YTGp1GWXwzpX4KbbZKfmXPU/3L+Pda/+4tRwmmG2WO3QvFvvP1JvM+x/HZg+ybWkNehk6vQMYsY9I/2uYH8S/eX96tFkUXlrx0cIuwY+4B/PzteC2Ej9TLq6y2l8sumfTLsnO5nls//Nx2J5FHCPtErTY4s7CD7qrYW9nnySKXhyL4mTRl2lH3yc913ss/o+oJtXxIakKMMO8i+qqWWfQpFy742Sxl2jn1g4Q0dvM75sww72b6sE1zvPmGlc0f9BEL7Wotv0CnfVuhnHd/pNMuWMgqUzc7riFUXPgH4lDeJVyMdUdZB+6pdOlG9/ZuhNLNeTXoJk7mrpXmoe6n5hZuwpmpNAv1qD8PoZLLc6ydMcpfJcaB7dr1sBbr4klgOjOPS33BPa/noVO5cDk5ZKQp8zH3e9yWhcNLPsO/yXHbrpvwo+1J2KfGvpxsNOjWDpntwJH4eRu0jLJTute0mCvT69NTgeRZR7h1z2rMHtG8vaN8MuKRM4YEHRcYuD64Rn6bz3NgKljQ+bRafp9tv39DV1TXiQWwbckj4YvIe9xTxAOL7tau+HNFBN4LWKxviMcz3k15yVg++bFhvbVLG4gGkuX3m03sBssadySXKyhwbbV/xfKfagukcwK2gcOVy9GOOwI4tH6uQWYz9ZjgH074gZdkQRBJuX7EDk8/ngIbSYuVscghjrOnlFUIUN2PfW6QeS4uV87J2SbEkxu61zD5Ri4hnrRYp3zpAPAK1fTiLfI7ytKCIQnyIpaHslG5qx9kHH8gDWRQrZGqXZWUUCMZOOJSbyYsw+IsstQ9kIbq+Qz7Jv28gwn7lr7e29B32gH12Ees7ISjOMt32tZS/XtvSWdha+xQ2+xygHnLgPHXMPlM5oTKrli7CnrHPEvSpj9pnKMszCVU5C3vCPmMCXz14LWXntNuad8Ps0yZwEJltefoA+PvGtPKYffj7ORSruiuJ92r2vdbIOUgef0cpre1Wfm3rP8gFwhSnZu1Lpn2G4kDN3GNfK1dn3va8MWtfSqYbmNtcTBp6uA0DykZ3to9A4hN4V+ZAQ6N2jDPfgfnOPmVzQoM8vq7QD9U+3SXHQINK1t4uZbUpqqASF22f0TC1Mc42KO51K5eFsS7nCAuoW16n9BWfe4qba0K/ss89lzURZV9unz6p6CXy5OqlbzSVp/MPcA/bt/Zua64uN7YpXzH2ZeXLDyPIYU0S1UDcpnwFuVeeAL2qsKfs26d8LbEv8O6JR1r9sFt8hse5mMXj79m3M4vB+nuJ+ATRwsXtE0D7pkD3CIIgCIIgCIIgCIIgCOLX4R9QYwfSd8PE2QAAAABJRU5ErkJggg==)\n",
    "\n",
    "Aonde 'r' é obtido através da correlação de (x,y) dividido pela variância de (x, y), aonde a autocorrelação pode variar entre -1 e 1 para uma perfeita correlção positiva ou negativa, se, por ventura, o valor obtido for zero (0), implica dizer que as variáveis são independetes."
   ]
  },
  {
   "cell_type": "markdown",
   "metadata": {
    "id": "WXPX9GevlSvN"
   },
   "source": [
    "**Lomb-Scargle** Para o desenvolvimento do projeto será utilizado também a função de Lomb-Scargle, também chamada de periodograma de Lomb-Scargle (LS). O periodograma de LS é útil para a análise de séries temporais estacionárias, isto é, séries cujos momentos estatísticos (média e variância) não variem no tempo e que, sejam irregularmente espaçadas.\n",
    "A função de Lomb-Scargle tem como objetivo detectar períodos de maior energia, sendo assim, ele encontra eventos de maior importância na série. Essa ferramenta pode ser utilizada em séries com hiatos ou espaçadas de maneira irregular sem perda de informação na análise espectral."
   ]
  },
  {
   "cell_type": "code",
   "execution_count": null,
   "metadata": {},
   "outputs": [],
   "source": []
  }
 ],
 "metadata": {
  "colab": {
   "name": "Projeto_IC.ipynb",
   "provenance": []
  },
  "kernelspec": {
   "display_name": "Python 3 (ipykernel)",
   "language": "python",
   "name": "python3"
  },
  "language_info": {
   "codemirror_mode": {
    "name": "ipython",
    "version": 3
   },
   "file_extension": ".py",
   "mimetype": "text/x-python",
   "name": "python",
   "nbconvert_exporter": "python",
   "pygments_lexer": "ipython3",
   "version": "3.9.2"
  }
 },
 "nbformat": 4,
 "nbformat_minor": 1
}
